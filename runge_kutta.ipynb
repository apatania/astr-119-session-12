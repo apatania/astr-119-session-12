{
 "cells": [
  {
   "cell_type": "code",
   "execution_count": null,
   "metadata": {},
   "outputs": [],
   "source": [
    "%matplotlib inline\n",
    "import numpy as np\n",
    "import matplotlib.pyplot as plt"
   ]
  },
  {
   "cell_type": "code",
   "execution_count": null,
   "metadata": {},
   "outputs": [],
   "source": [
    "def dydx(x,y):\n",
    "    y_derivs = np.zeros(2)\n",
    "    \n",
    "    y_derivs[0] = y[1]\n",
    "    \n",
    "    y_derivs[1] = -1*y[0]\n",
    "    \n",
    "    return y_derivs"
   ]
  },
  {
   "cell_type": "code",
   "execution_count": null,
   "metadata": {},
   "outputs": [],
   "source": [
    "def rk4_mv_core(dydx,xi,yi,nv,h):\n",
    "    \n",
    "    k1 = np.zeros(nv)\n",
    "    k2 = np.zeros(nv)\n",
    "    k3 = np.zeros(nv)\n",
    "    k4 = np.zeros(nv)\n",
    "    \n",
    "    x_ipoh = xi + 0.5*h\n",
    "    \n",
    "    x_ipo = xi + h\n",
    "    \n",
    "    y_temp = np.zeros(nv)\n",
    "    \n",
    "    y_derivs = dydx(xi,yi)\n",
    "    k1[:] = h*y_derivs[:]\n",
    "    \n",
    "    y_temp[:] = yi[:] + 0.5*k1[:]\n",
    "    y_derivs = dydx(x_ipoh,y_temp)\n",
    "    k2[:] = h*y_derivs[:]\n",
    "    \n",
    "    y_temp[:] = yi[:] + 0.5*k2[:]\n",
    "    y_derivs = dydx(x_ipoh,y_temp)\n",
    "    k3[:] = h*y_derivs[:]\n",
    "    \n",
    "    y_temp[:] = yi[:] + k3[:]\n",
    "    y_derivs = dydx(x_ipo,y_temp)\n",
    "    k4[:] = h*y_derivs[:]\n",
    "    \n",
    "    yipo = yi + (k1 + 2*k2 +2*k3 + k4)/6.\n",
    "    \n",
    "    return yipo"
   ]
  },
  {
   "cell_type": "code",
   "execution_count": null,
   "metadata": {},
   "outputs": [],
   "source": [
    "def rk4_mv_ad(dydx,x_i,y_i,nv,h,tol):\n",
    "    \n",
    "    SAFETY = 0.9\n",
    "    H_NEW_FAC = 2.0\n",
    "    \n",
    "    imax = 10000\n",
    "    \n",
    "    i = 0\n",
    "    \n",
    "    Delta = np.full(nv,2*tol)\n",
    "    \n",
    "    h_step = h\n",
    "    \n",
    "    while(Delta.max()/tol > 1.0):\n",
    "        y_2 = rk4_mv_core(dydx,x_i,y_i,nv,h_step)\n",
    "        y_1 = rk4_mv_core(dydx,x_i,y_i,nv,0.5*h_step)\n",
    "        y_11 = rk4_mv_core(dydx,x_i+0.5*h_step,y_1,nv,0.5*h_step)\n",
    "        \n",
    "        Delta = np.fabs(y_2 - y_11)\n",
    "        \n",
    "        if(Delta.max()/tol > 1.0):\n",
    "            \n",
    "            h_step *= SAFETY * (Delta.max()/tol)**(-0.25)\n",
    "        if(i>=imax):\n",
    "            print(\"Too many iterations in rk_mv_ad()\")\n",
    "            raise StopIteration(\"Ending after i = \",i)\n",
    "        i+=1\n",
    "    \n",
    "    h_new = np.fmin(h_step *(Delta.max()/tol)**(-0.9), h_step*H_NEW_FAC)\n",
    "    return y_2,h_new,h_step"
   ]
  },
  {
   "cell_type": "code",
   "execution_count": null,
   "metadata": {},
   "outputs": [],
   "source": [
    "def rk4_mv(dydx,a,b,y_a,tol):\n",
    "    xi = a\n",
    "    yi = y_a.copy()\n",
    "    \n",
    "    h = 1.0e-4 * (b-a)\n",
    "    imax = 10000\n",
    "    \n",
    "    i = 0\n",
    "    nv = len(y_a)\n",
    "    \n",
    "    x = np.full(1,a)\n",
    "    y = np.full((1,nv),y_a)\n",
    "    \n",
    "    flag = 1\n",
    "    \n",
    "    while(flag):\n",
    "        yi_new,h_new, h_step = rk4_mv_ad(dydx,xi,yi,nv,h,tol)\n",
    "        h = h_new\n",
    "        \n",
    "        if(xi+h_step>b):\n",
    "            \n",
    "            h = b-xi"
   ]
  }
 ],
 "metadata": {
  "kernelspec": {
   "display_name": "Python 3",
   "language": "python",
   "name": "python3"
  },
  "language_info": {
   "codemirror_mode": {
    "name": "ipython",
    "version": 3
   },
   "file_extension": ".py",
   "mimetype": "text/x-python",
   "name": "python",
   "nbconvert_exporter": "python",
   "pygments_lexer": "ipython3",
   "version": "3.6.5"
  }
 },
 "nbformat": 4,
 "nbformat_minor": 2
}
